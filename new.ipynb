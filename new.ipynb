{
 "cells": [
  {
   "cell_type": "code",
   "execution_count": 2,
   "metadata": {},
   "outputs": [
    {
     "name": "stdout",
     "output_type": "stream",
     "text": [
      "8\n"
     ]
    }
   ],
   "source": [
    "add = lambda x,y: x+y \n",
    "print(add(3,5))"
   ]
  },
  {
   "cell_type": "code",
   "execution_count": 3,
   "metadata": {},
   "outputs": [
    {
     "name": "stdout",
     "output_type": "stream",
     "text": [
      "90\n"
     ]
    }
   ],
   "source": [
    "class harshita:\n",
    "    a=90\n",
    "a1=harshita()\n",
    "print(a1.a)"
   ]
  },
  {
   "cell_type": "code",
   "execution_count": 11,
   "metadata": {},
   "outputs": [
    {
     "name": "stdout",
     "output_type": "stream",
     "text": [
      "dhamdhere\n",
      "None\n"
     ]
    }
   ],
   "source": [
    "class harshi:\n",
    "    def dhamdhere():\n",
    "        print(\"dhamdhere\")\n",
    "a1=harshi.dhamdhere()\n",
    "print(a1)"
   ]
  },
  {
   "cell_type": "code",
   "execution_count": 13,
   "metadata": {},
   "outputs": [
    {
     "name": "stdout",
     "output_type": "stream",
     "text": [
      "39\n"
     ]
    }
   ],
   "source": [
    "class harshita:\n",
    "    def __init__(self):\n",
    "        self.a=39\n",
    "a1=harshita()\n",
    "print(a1.a)"
   ]
  },
  {
   "cell_type": "code",
   "execution_count": 12,
   "metadata": {},
   "outputs": [
    {
     "name": "stdout",
     "output_type": "stream",
     "text": [
      "<class 'int'>\n"
     ]
    }
   ],
   "source": [
    "a=90\n",
    "print(type(a))"
   ]
  },
  {
   "cell_type": "code",
   "execution_count": 16,
   "metadata": {},
   "outputs": [
    {
     "name": "stdout",
     "output_type": "stream",
     "text": [
      "hysj\n"
     ]
    }
   ],
   "source": [
    "class arya():\n",
    "    def __init__(self):\n",
    "        self.a=\"hysj\"\n",
    "a1=arya()\n",
    "print(a1.a)"
   ]
  },
  {
   "cell_type": "code",
   "execution_count": 17,
   "metadata": {},
   "outputs": [
    {
     "name": "stdout",
     "output_type": "stream",
     "text": [
      "kukas,jaipur\n",
      "xyz\n"
     ]
    }
   ],
   "source": [
    "class arya():\n",
    "    def __init__(self,address,director):\n",
    "        self.address= address\n",
    "        self.director= director\n",
    "obj=arya(\"kukas,jaipur\",\"xyz\")\n",
    "print(obj.address)\n",
    "print(obj.director)"
   ]
  },
  {
   "cell_type": "code",
   "execution_count": 20,
   "metadata": {},
   "outputs": [
    {
     "name": "stdout",
     "output_type": "stream",
     "text": [
      "dhamdhere, pal\n",
      "dsf\n"
     ]
    }
   ],
   "source": [
    "class harshi():\n",
    "    def __init__(self,harshita,somi):\n",
    "        self.harshita= harshita\n",
    "        self.somi= somi\n",
    "    def surname(self):\n",
    "        print(self.harshita)\n",
    "        print(self.somi)\n",
    "obj=harshi(\"dhamdhere, pal\", \"dsf\")\n",
    "obj.surname()"
   ]
  },
  {
   "cell_type": "code",
   "execution_count": 29,
   "metadata": {},
   "outputs": [
    {
     "name": "stdout",
     "output_type": "stream",
     "text": [
      "hello\n",
      "harshita\n"
     ]
    }
   ],
   "source": [
    "class ha():\n",
    "    name = \"harshita\"\n",
    "class hi(ha):\n",
    "    print(\"hello\")\n",
    "\n",
    "a=hi()\n",
    "\n",
    "print(a.name)\n",
    "    "
   ]
  },
  {
   "cell_type": "code",
   "execution_count": 31,
   "metadata": {},
   "outputs": [
    {
     "name": "stdout",
     "output_type": "stream",
     "text": [
      "1234\n",
      "customer details\n"
     ]
    }
   ],
   "source": [
    "class BankDetails:\n",
    "    def __init__(self,accountnumber):\n",
    "        self.accountnumber=accountnumber\n",
    "    def customer(self):\n",
    "        print(\"customer details\")\n",
    "class Customer(BankDetails):\n",
    "    def __init__(self,accountnumber):\n",
    "        BankDetails.__init__(self,accountnumber)\n",
    "    def display(self):\n",
    "        print(self.accountnumber)\n",
    "obj=Customer(1234)\n",
    "obj.display()\n",
    "obj.customer()"
   ]
  },
  {
   "cell_type": "code",
   "execution_count": null,
   "metadata": {},
   "outputs": [
    {
     "name": "stdout",
     "output_type": "stream",
     "text": [
      "Son\n"
     ]
    },
    {
     "data": {
      "text/plain": [
       "'hh'"
      ]
     },
     "execution_count": 32,
     "metadata": {},
     "output_type": "execute_result"
    }
   ],
   "source": [
    "class Grandfather:\n",
    "    Grandfathername=\"hh\"\n",
    "class Father(Grandfather):\n",
    "    Fathername=\"uyt\"\n",
    "class son(Grandfather,Father):\n",
    "    print(\"Son\")\n",
    "obj=son()\n",
    "obj.Grandfathername"
   ]
  },
  {
   "cell_type": "markdown",
   "metadata": {},
   "source": [
    "#Multilevel"
   ]
  },
  {
   "cell_type": "code",
   "execution_count": 35,
   "metadata": {},
   "outputs": [
    {
     "name": "stdout",
     "output_type": "stream",
     "text": [
      "Son\n"
     ]
    },
    {
     "data": {
      "text/plain": [
       "'uyt'"
      ]
     },
     "execution_count": 35,
     "metadata": {},
     "output_type": "execute_result"
    }
   ],
   "source": [
    "class Grandfather:\n",
    "    Grandfathername=\"hh\"\n",
    "class Father(Grandfather):\n",
    "    Fathername=\"uyt\"\n",
    "class son(Father):\n",
    "    print(\"Son\")\n",
    "obj=son()\n",
    "obj.Grandfathername\n",
    "obj.Fathername"
   ]
  },
  {
   "cell_type": "markdown",
   "metadata": {},
   "source": [
    "#Hybrid"
   ]
  },
  {
   "cell_type": "code",
   "execution_count": 38,
   "metadata": {},
   "outputs": [
    {
     "name": "stdout",
     "output_type": "stream",
     "text": [
      "oe\n",
      "hara\n"
     ]
    }
   ],
   "source": [
    "class person:\n",
    "    person=\"hara\"\n",
    "class Male(person):\n",
    "    Male=\"udeh\"\n",
    "class Female(person):\n",
    "    Female=\"ejrnhfk\"\n",
    "class child(Male,Female):\n",
    "    print(\"oe\")\n",
    "obj=child()\n",
    "print(obj.person)"
   ]
  },
  {
   "cell_type": "markdown",
   "metadata": {},
   "source": [
    "Write a lambda function to merge two lists into a dictionary where \n",
    "one list represents keys and the other represents values."
   ]
  },
  {
   "cell_type": "code",
   "execution_count": 2,
   "metadata": {},
   "outputs": [],
   "source": [
    "merge_lists = lambda keys, values: dict(zip(keys, values))\n"
   ]
  },
  {
   "cell_type": "code",
   "execution_count": 3,
   "metadata": {},
   "outputs": [
    {
     "name": "stdout",
     "output_type": "stream",
     "text": [
      "{'a': 1, 'b': 2, 'c': 3}\n"
     ]
    }
   ],
   "source": [
    "keys = ['a', 'b', 'c']\n",
    "values = [1, 2, 3]\n",
    "\n",
    "result = merge_lists(keys, values)\n",
    "print(result)"
   ]
  },
  {
   "cell_type": "markdown",
   "metadata": {},
   "source": [
    "Create a class Product with instance variables name and price. Also, \n",
    "add a class variable discount_rate and a method to calculate the \n",
    "discounted price."
   ]
  },
  {
   "cell_type": "code",
   "execution_count": 4,
   "metadata": {},
   "outputs": [
    {
     "name": "stdout",
     "output_type": "stream",
     "text": [
      "Discounted price of Laptop: $900.00\n",
      "Discounted price of Smartphone: $450.00\n"
     ]
    }
   ],
   "source": [
    "class Product:\n",
    "    discount_rate = 0.1  \n",
    "\n",
    "    def __init__(self, name, price):\n",
    "        self.name = name\n",
    "        self.price = price\n",
    "\n",
    "    def calculate_discounted_price(self):\n",
    "        return self.price * (1 - Product.discount_rate)\n",
    "\n",
    "product1 = Product(\"Laptop\", 1000)\n",
    "product2 = Product(\"Smartphone\", 500)\n",
    "\n",
    "print(f\"Discounted price of {product1.name}: ${product1.calculate_discounted_price():.2f}\")\n",
    "print(f\"Discounted price of {product2.name}: ${product2.calculate_discounted_price():.2f}\")\n"
   ]
  },
  {
   "cell_type": "markdown",
   "metadata": {},
   "source": [
    "Create a base class Shape with a method area(). Derive two \n",
    "subclasses Circle and Rectangle, each implementing their own area() \n",
    "method. (INHERITANCE)"
   ]
  },
  {
   "cell_type": "code",
   "execution_count": 6,
   "metadata": {},
   "outputs": [
    {
     "name": "stdout",
     "output_type": "stream",
     "text": [
      "Area of the circle: 78.54\n",
      "Area of the rectangle: 24\n"
     ]
    }
   ],
   "source": [
    "import math\n",
    "\n",
    "class Shape:\n",
    "    def area(self):\n",
    "        raise NotImplementedError(\"Subclasses must implement this method\")\n",
    "\n",
    "class Circle(Shape):\n",
    "    def __init__(self, radius):\n",
    "        self.radius = radius\n",
    "    \n",
    "    def area(self):\n",
    "        return math.pi * (self.radius ** 2)\n",
    "\n",
    "class Rectangle(Shape):\n",
    "    def __init__(self, width, height):\n",
    "        self.width = width\n",
    "        self.height = height\n",
    "    \n",
    "    def area(self):\n",
    "        return self.width * self.height\n",
    "\n",
    "circle = Circle(5)\n",
    "rectangle = Rectangle(4, 6)\n",
    "\n",
    "print(f\"Area of the circle: {circle.area():.2f}\")\n",
    "print(f\"Area of the rectangle: {rectangle.area()}\")"
   ]
  },
  {
   "cell_type": "markdown",
   "metadata": {},
   "source": [
    "Public and Private"
   ]
  },
  {
   "cell_type": "code",
   "execution_count": 6,
   "metadata": {},
   "outputs": [
    {
     "name": "stdout",
     "output_type": "stream",
     "text": [
      "Arya\n"
     ]
    },
    {
     "data": {
      "text/plain": [
       "'ji'"
      ]
     },
     "execution_count": 6,
     "metadata": {},
     "output_type": "execute_result"
    }
   ],
   "source": [
    "class Ji:\n",
    "    def __init__(self):\n",
    "        self.__accountn0=1234 #private\n",
    "        self._name=\"ji\"#prtected\n",
    "        self.labno= 789 #public\n",
    "class student(Ji):\n",
    "    print(\"Arya\")\n",
    "s1=student()\n",
    "s1.labno\n",
    "s1._name"
   ]
  },
  {
   "cell_type": "code",
   "execution_count": null,
   "metadata": {},
   "outputs": [],
   "source": []
  }
 ],
 "metadata": {
  "kernelspec": {
   "display_name": "Python 3",
   "language": "python",
   "name": "python3"
  },
  "language_info": {
   "codemirror_mode": {
    "name": "ipython",
    "version": 3
   },
   "file_extension": ".py",
   "mimetype": "text/x-python",
   "name": "python",
   "nbconvert_exporter": "python",
   "pygments_lexer": "ipython3",
   "version": "3.13.0"
  }
 },
 "nbformat": 4,
 "nbformat_minor": 2
}
